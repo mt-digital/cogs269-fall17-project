{
 "cells": [
  {
   "cell_type": "markdown",
   "metadata": {},
   "source": [
    "# Solving 2-citizen, 2-elite situation\n",
    "\n",
    "I think this will give some insight into what is possible in this problem. \n",
    "\n",
    "There are two citizen agents, two elite agents, and each agent has a 1D opinion. I have a feeling that initial opinions outside 1 will diverge; this is something that should be shown eventually. I want to write the update equations directly, and then I can work on generalizing, since I keep confusing myself about what's going on."
   ]
  },
  {
   "cell_type": "code",
   "execution_count": 37,
   "metadata": {},
   "outputs": [],
   "source": [
    "import numpy as np\n",
    "\n",
    "c1, c2 = (-0.1, 0.5)\n",
    "e1, e2 = (-0.4, 0.3)\n",
    "\n",
    "def sigmoid(c, e):\n",
    "    return 1.0 / (1.0 + np.exp(-1.0 * (c * e)))\n",
    "\n",
    "# UNCOMMENT TO PLOT 2D SIGMOID\n",
    "# import matplotlib.pyplot as plt\n",
    "# z = np.linspace(-1, 1, 2000)\n",
    "# x, y = np.meshgrid(z, z, sparse=False, indexing='xy')\n",
    "\n",
    "# sig = sigmoid(x, y)\n",
    "\n",
    "# plt.imshow(sig, cmap=plt.cm.gray_r)\n",
    "# plt.colorbar()\n",
    "\n",
    "# plt.gca().set_xticks(list(range(10)))\n",
    "# plt.gca().set_yticks(list(range(10)))\n",
    "# plt.gca().set_xticklabels(('-1', '1'))\n",
    "# plt.gca().set_yticklabels(('-1', '1'))"
   ]
  },
  {
   "cell_type": "code",
   "execution_count": 100,
   "metadata": {},
   "outputs": [],
   "source": [
    "'''\n",
    "Set up functions for running the iterations.\n",
    "'''\n",
    "def cossim(v1, v2):\n",
    "    return (v1 * v2) / (np.abs(v1) * np.abs(v2))\n",
    "    #     return v1.dot(v2) / (np.linalg.norm(v1) * np.linalg.norm(v2))\n",
    "\n",
    "def softmax_vote(v1, other1, other2):\n",
    "    # Logistic activation function.\n",
    "    g1 = sigmoid(v1, other1)\n",
    "    g2 = sigmoid(v1, other2)\n",
    "    norm = 1.0 / (np.exp(g1) + np.exp(g2))\n",
    "    return norm * np.array([np.exp(g1), np.exp(g2)])\n",
    "\n",
    "def get_elite_payoff(c1, c2, e1, e2):\n",
    "    # Calculate votes from c1 and c2.\n",
    "    c1_votes = softmax_vote(c1, e1, e2)\n",
    "    c2_votes = softmax_vote(c2, e1, e2)\n",
    "    \n",
    "    e1_payoff = c1_votes[0] + c2_votes[0]\n",
    "    e2_payoff = c1_votes[1] + c2_votes[1]\n",
    "    \n",
    "    return e1_payoff, e2_payoff\n",
    "\n",
    "def get_citizen_payoff(c1, c2, e1, e2):\n",
    "    c1_payoff = 0.5 * (cossim(c1, e1) + cossim(c1, e2))\n",
    "    c2_payoff = 0.5 * (cossim(c2, e1) + cossim(c2, e2))\n",
    "    \n",
    "    return c1_payoff, c2_payoff\n",
    "\n",
    "def get_update(v1, v2, species, other1, other2):\n",
    "    'Compute update of values'\n",
    "    \n",
    "    if species == 'elite':\n",
    "        payoffs = get_elite_payoff(v1, v2, other1, other2)\n",
    "        print('Elite: ', payoffs)\n",
    "    elif species == 'citizen':\n",
    "        payoffs = get_citizen_payoff(v1, v2, other1, other2)\n",
    "        print('Citizen: ', payoffs)\n",
    "    else:\n",
    "        raise Exception('Species must be \"elite\" or \"citizen\"')\n",
    "    \n",
    "    dpayoff = np.abs(payoffs[1] - payoffs[0])\n",
    "    \n",
    "    ret = cossim(v1, v2) * dpayoff\n",
    "    \n",
    "    return ret"
   ]
  },
  {
   "cell_type": "code",
   "execution_count": 101,
   "metadata": {},
   "outputs": [
    {
     "name": "stdout",
     "output_type": "stream",
     "text": [
      "Citizen:  (0.0, 0.0)\n",
      "Citizen:  (0.0, 0.0)\n",
      "Elite:  (1.009360974696641, 0.99063902530335901)\n",
      "Elite:  (1.009360974696641, 0.99063902530335901)\n",
      "Citizen:  (0.0, 0.0)\n",
      "Citizen:  (0.0, 0.0)\n",
      "Elite:  (1.0105289000017383, 0.98947109999826166)\n",
      "Elite:  (1.0105289000017383, 0.98947109999826166)\n",
      "Citizen:  (0.0, 0.0)\n",
      "Citizen:  (0.0, 0.0)\n",
      "Elite:  (1.0118423533083916, 0.98815764669160844)\n",
      "Elite:  (1.0118423533083916, 0.98815764669160844)\n",
      "Citizen:  (0.0, 0.0)\n",
      "Citizen:  (0.0, 0.0)\n",
      "Elite:  (1.0133193882338967, 0.98668061176610333)\n",
      "Elite:  (1.0133193882338967, 0.98668061176610333)\n",
      "Citizen:  (0.0, 0.0)\n",
      "Citizen:  (0.0, 0.0)\n",
      "Elite:  (1.0149802643526544, 0.98501973564734568)\n",
      "Elite:  (1.0149802643526544, 0.98501973564734568)\n",
      "Citizen:  (1.0, -1.0)\n",
      "Citizen:  (-1.0, 1.0)\n",
      "Elite:  (1.0168477024709404, 0.98315229752905942)\n",
      "Elite:  (1.0168477024709404, 0.98315229752905942)\n",
      "Citizen:  (0.0, 0.0)\n",
      "Citizen:  (0.0, 0.0)\n",
      "Elite:  (1.0118005143001794, 0.98819948569982052)\n",
      "Elite:  (1.0118005143001794, 0.98819948569982052)\n",
      "Citizen:  (1.0, 1.0)\n",
      "Citizen:  (1.0, 1.0)\n",
      "Elite:  (1.0128680710692308, 0.9871319289307694)\n",
      "Elite:  (1.0128680710692308, 0.9871319289307694)\n",
      "Citizen:  (0.0, 0.0)\n",
      "Citizen:  (0.0, 0.0)\n",
      "Elite:  (1.0117025201525875, 0.98829747984741245)\n",
      "Elite:  (1.0117025201525875, 0.98829747984741245)\n"
     ]
    },
    {
     "data": {
      "text/plain": [
       "<matplotlib.legend.Legend at 0x13a9898d0>"
      ]
     },
     "execution_count": 101,
     "metadata": {},
     "output_type": "execute_result"
    },
    {
     "name": "stderr",
     "output_type": "stream",
     "text": [
      "/usr/local/lib/python3.6/site-packages/matplotlib/figure.py:1743: UserWarning: This figure includes Axes that are not compatible with tight_layout, so its results might be incorrect.\n",
      "  warnings.warn(\"This figure includes Axes that are not \"\n"
     ]
    },
    {
     "data": {
      "image/png": "[encoded data removed]",
      "text/plain": [
       "<matplotlib.figure.Figure at 0x13a4c5f60>"
      ]
     },
     "metadata": {},
     "output_type": "display_data"
    }
   ],
   "source": [
    "n_steps = 10\n",
    "c1_t = np.zeros(n_steps)\n",
    "c2_t = np.zeros(n_steps)\n",
    "e1_t = np.zeros(n_steps)\n",
    "e2_t = np.zeros(n_steps)\n",
    "\n",
    "c1_t[0] = -.2; c2_t[0] = .3\n",
    "e1_t[0] = -.4; e2_t[0] = .1\n",
    "\n",
    "for ii in range(1, n_steps):\n",
    "    c1_t[ii] = c1_t[ii-1] + get_update(c1_t[ii-1], c2_t[ii-1], \n",
    "                                       'citizen', e1_t[ii-1], e2_t[ii-1])\n",
    "    c2_t[ii] = c2_t[ii-1] + get_update(c2_t[ii-1], c1_t[ii-1], 'citizen',\n",
    "                                       e1_t[ii-1], e2_t[ii-1])\n",
    "    e1_t[ii] = e1_t[ii-1] + get_update(e1_t[ii-1], e2_t[ii-1], 'elite',\n",
    "                                       c1_t[ii-1], c2_t[ii-1])\n",
    "    e2_t[ii] = e2_t[ii-1] + get_update(e2_t[ii-1], e1_t[ii-1], 'elite',\n",
    "                                       c1_t[ii-1], c2_t[ii-1])\n",
    "    \n",
    "plt.plot(c1_t, label='c1')\n",
    "plt.plot(c2_t, label='c2')\n",
    "plt.plot(e1_t, label='e1')\n",
    "plt.plot(e2_t, label='e2')\n",
    "plt.legend()"
   ]
  }
 ],
 "metadata": {
  "kernelspec": {
   "display_name": "Python 3",
   "language": "python",
   "name": "python3"
  },
  "language_info": {
   "codemirror_mode": {
    "name": "ipython",
    "version": 3
   },
   "file_extension": ".py",
   "mimetype": "text/x-python",
   "name": "python",
   "nbconvert_exporter": "python",
   "pygments_lexer": "ipython3",
   "version": "3.6.2"
  }
 },
 "nbformat": 4,
 "nbformat_minor": 2
}
