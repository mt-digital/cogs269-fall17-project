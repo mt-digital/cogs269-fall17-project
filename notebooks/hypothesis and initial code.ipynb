{
 "cells": [
  {
   "cell_type": "markdown",
   "metadata": {},
   "source": [
    "# Reinforcement learning creates categories\n",
    "\n",
    "## Consumer choice results in elite polarization\n",
    "\n",
    "## Hypothesis\n",
    "\n",
    "Given a network with two node types, one that communicates and one that votes, and payoffs depending on observed coherence and vote accumulation, respectively. Agents must predict what agents of the opposite type will do based on past behavior. The update equations for _citizens_, the agents who vote, are\n",
    "\n",
    "$$\n",
    "c_{i,~t+1} \\leftarrow c_{i,t} + \\delta^c u^c_{i,t} \\\\\n",
    "u^c_{i,t} = \\sum_{j} \\frac{c_{i,t}^{T}c_{j,t}}{\\lVert c_{i,t} \\rVert_2 \\lVert c_{j,t} \\rVert_2} \\left \\lvert P(c_{j,t}) - P(c_{i,t}) \\right\\rvert \n",
    "$$\n",
    "\n",
    "where $\\delta_c$ is the citizen learning rate. The payoff for a citizen that appears in the update equation is dependent on the signal produced by the _elite_ nodes, for whom the citizens distribute their votes and who communicate with citizens with the goal of earning the citizens' votes. The citizens gain if elites \"speak their langugage\"\n",
    "\n",
    "$$\n",
    "P(c_{i,t}) = A \\sum_j \\frac{c_{i,t}^{T}\\epsilon_{j,t}}{\\lVert c_{i,t} \\rVert_2 \\lVert \\epsilon_{j,t} \\rVert_2}\n",
    "$$\n",
    "\n",
    "where we'll set $A=1$, to start, but it could make a difference.\n",
    "\n",
    "The conceptual language spoken by the elite node $i$ at time $t$ is $\\epsilon_{i,t}$. This conceptual system has its own update equations based on the fraction of income $B$ that each citizen distributes each elite. \n",
    "\n",
    "$$\n",
    "\\epsilon_{i,t+1} \\leftarrow \\epsilon_{i,t} + \\delta^\\epsilon u^\\epsilon_{i,t} \\\\\n",
    "u^\\epsilon_{i,t} = \\sum_{j} \\frac{\\epsilon_{i,t}^T\\epsilon_{j,t}}{\\lVert \\epsilon_{i,t} \\rVert_2 \\lVert \\epsilon_{j,t}\\rVert_2} \\left \\lvert P(\\epsilon_{j,t}) - P(\\epsilon_{i,t}) \\right\\rvert\n",
    "$$\n",
    "\n",
    "The payoff to a given elite node $i$ at a particular timestep is the sum of vote fractions received from all citizen nodes\n",
    "\n",
    "$$\n",
    "P(\\epsilon_{i,t}) = \\sum_j f_{ji,t} \n",
    "$$\n",
    "\n",
    "where again $B$ is some total benefit the citizens can give away to elite nodes, which we set to one for simplicity to start, but should be explored. To close the loop, the fraction of \"votes\" given to elite node $i$ from citizen node $j$ is \n",
    "\n",
    "$$\n",
    "f_{ij,t} = \\frac{e^{\\epsilon_{j,t}^T c_{i,t}}}{\\sum_j e^{\\epsilon_{j,t}^T c_{i,t}}}\n",
    "$$\n",
    "\n",
    "Note that $0 \\leq f_{ij,t} \\leq B$. For simplicity to start, we'll set $B=1$. Not sure it matters, but could be interesting to test.\n",
    "\n",
    "The payoffs...\n",
    "\n",
    "## Based on...\n",
    "\n",
    "Iterated learning and evolution of language, see, e.g. Simon & Kirby (2008), Kalish & Griffiths (2007), and Simon (2017) for reviews. Aiming to get a dynamical model of language, and see how, to take one of many example hypotheses about the source of polarization, \n",
    "\n",
    "## Data analysis\n",
    "\n",
    "After the model converges, I want to do k-NN clustering to identify groups sharing categories, like Lakoff's \"strict father\" and \"nurturant parent\" stereotypes. Lakoff admits that conceptual relationships among each of these group members differs, he asserts there is a set of features that is maximally common among the members, while also being maximally distinct from non-members. "
   ]
  },
  {
   "cell_type": "code",
   "execution_count": 3,
   "metadata": {},
   "outputs": [],
   "source": []
  },
  {
   "cell_type": "code",
   "execution_count": 4,
   "metadata": {},
   "outputs": [
    {
     "data": {
      "text/plain": [
       "5.3851648071345037"
      ]
     },
     "execution_count": 4,
     "metadata": {},
     "output_type": "execute_result"
    }
   ],
   "source": [
    "# matrix dot product testing\n",
    "import numpy as np\n",
    "a = np.array([[1, 1], [2, 3]])\n",
    "b = np.array([[0, 1], [0, 1]])\n",
    "np.linalg.norm(a.dot(b))"
   ]
  }
 ],
 "metadata": {
  "kernelspec": {
   "display_name": "Python 3",
   "language": "python",
   "name": "python3"
  },
  "language_info": {
   "codemirror_mode": {
    "name": "ipython",
    "version": 3
   },
   "file_extension": ".py",
   "mimetype": "text/x-python",
   "name": "python",
   "nbconvert_exporter": "python",
   "pygments_lexer": "ipython3",
   "version": "3.6.2"
  }
 },
 "nbformat": 4,
 "nbformat_minor": 2
}
